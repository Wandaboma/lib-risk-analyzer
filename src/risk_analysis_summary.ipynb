{
 "cells": [
  {
   "cell_type": "code",
   "execution_count": 2,
   "id": "c527c9d7",
   "metadata": {},
   "outputs": [],
   "source": [
    "\n",
    "import pandas as pd\n",
    "from sklearn.preprocessing import MinMaxScaler, StandardScaler\n",
    "from scipy.stats import kruskal, mannwhitneyu\n",
    "import matplotlib.pyplot as plt\n",
    "import os\n",
    "import json\n",
    "import re\n",
    "from tabulate import tabulate\n"
   ]
  },
  {
   "cell_type": "code",
   "execution_count": 3,
   "id": "20fc6d55",
   "metadata": {},
   "outputs": [],
   "source": [
    "\n",
    "# 配置路径\n",
    "base_dir = os.getcwd()\n",
    "path = base_dir + '/../data/'\n",
    "\n",
    "X_path = path + \"package_substitutability.csv\"\n",
    "Y_path = path + \"maintenance_activity.csv\"\n",
    "Z_path = path + \"structure_criticality.csv\"\n",
    "directory_path = path + \"/advisory-db-osv/crates/\"\n"
   ]
  },
  {
   "cell_type": "code",
   "execution_count": 7,
   "id": "977eee78",
   "metadata": {},
   "outputs": [
    {
     "name": "stdout",
     "output_type": "stream",
     "text": [
      "     crate_name  crate_id      维护质量      可替代性       结构关键性  final_score  rank\n",
      "0   proc-macro2     22124  0.724761  1.320340  136.556847    68.177811     1\n",
      "1         quote      6224 -0.514472  2.310418   68.154445    33.704502     2\n",
      "2           syn      6274 -0.251605  2.872254   51.809603    25.281060     3\n",
      "3     thiserror    171267  1.776232  2.019776   39.901687    19.465310     4\n",
      "4        anyhow    170198  0.649656  2.200216   25.923403    12.516650     5\n",
      "5     once_cell     77028  0.461894  0.217739   22.386490    11.559960     6\n",
      "6         bytes      1315 -0.176500  1.078609   22.623129    11.397771     7\n",
      "7        chrono       120  0.161473  1.971370   22.746283    11.068446     8\n",
      "8        memchr      2364  1.550917  0.390459   15.006573     7.692011     9\n",
      "9      bitflags       793 -0.176500  2.043621   14.448555     6.924479    10\n",
      "10     textwrap      7649  1.813785  0.021823   10.238746     5.429266    11\n",
      "11          url       109  1.888890  0.551179    9.350644     4.765962    12\n",
      "12     smallvec      1783  0.612104  0.927622    8.999515     4.567498    13\n",
      "13       base64      3569 -0.326710  2.111875    8.228655     3.802249    14\n",
      "14          hex      3290 -0.777340  0.478232    6.144981     3.458932    15\n",
      "15        defmt    276519  0.386788 -0.202656    4.906055     2.995411    16\n",
      "16        image       136  1.438260  1.008031    5.340002     2.622963    17\n",
      "17         http       184  0.311683  1.114653    5.163945     2.604943    18\n",
      "18      colored      4445  0.574551  3.260478    6.485082     2.380895    19\n",
      "19    crossterm     47345 -0.063842  0.756840    3.892488     2.149892    20\n"
     ]
    }
   ],
   "source": [
    "\n",
    "df_X = pd.read_csv(X_path).rename(columns={\"package_name\": \"crate_name\", \"avg_top20_similarity\": \"X\"})\n",
    "df_Y = pd.read_csv(Y_path).rename(columns={\"predicted_score\": \"Y\"})\n",
    "df_Z = pd.read_csv(Z_path).rename(columns={\"PR\": \"Z\"})\n",
    "\n",
    "df = df_Y.merge(df_X, on=\"crate_name\", how=\"left\").merge(df_Z[[\"crate_name\", \"Z\"]], on=\"crate_name\", how=\"left\")\n",
    "df = df.dropna(subset=[\"X\", \"Y\", \"Z\"])\n",
    "\n",
    "# 使用标准化\n",
    "scaler = StandardScaler()\n",
    "df[[\"X\", \"Y\", \"Z\"]] = scaler.fit_transform(df[[\"X\", \"Y\", \"Z\"]])\n",
    "alpha = 0.5\n",
    "beta = 0.4\n",
    "gama = 0.1\n",
    "df[\"final_score\"] = alpha * df[\"Z\"] + beta * (1 - df[\"X\"]) + gama * (1 - df[\"Y\"])\n",
    "df = df.rename(columns={'X': \"可替代性\", 'Y': \"维护质量\", 'Z': \"结构关键性\"})\n",
    "sorted_df = df.sort_values(by=\"final_score\", ascending=False).reset_index(drop=True)\n",
    "sorted_df[\"rank\"] = sorted_df.index + 1\n",
    "print(sorted_df.head(20))\n"
   ]
  },
  {
   "cell_type": "code",
   "execution_count": null,
   "id": "e446e177",
   "metadata": {},
   "outputs": [
    {
     "name": "stdout",
     "output_type": "stream",
     "text": [
      "三项指标之间的皮尔逊相关性矩阵：\n",
      "           可替代性      维护质量     结构关键性\n",
      "可替代性   1.000000  0.018376  0.031460\n",
      "维护质量   0.018376  1.000000  0.008894\n",
      "结构关键性  0.031460  0.008894  1.000000\n"
     ]
    }
   ],
   "source": [
    "indicators_df = sorted_df[[\"可替代性\", \"维护质量\", \"结构关键性\"]]\n",
    "corr_matrix = indicators_df.corr(method=\"pearson\")\n",
    "print(\"三项指标之间的皮尔逊相关性矩阵：\")\n",
    "print(corr_matrix)\n"
   ]
  },
  {
   "cell_type": "code",
   "execution_count": 5,
   "id": "4ac2f36e",
   "metadata": {},
   "outputs": [
    {
     "name": "stdout",
     "output_type": "stream",
     "text": [
      "        crate_name cvss_score  severity\n",
      "0       abi_stable        7.5      High\n",
      "1             abox        8.1      High\n",
      "2      actix-codec        9.8  Critical\n",
      "3       actix-http        7.5      High\n",
      "4    actix-service        5.5    Medium\n",
      "..             ...        ...       ...\n",
      "242             ws        7.5      High\n",
      "243            xcb        5.5    Medium\n",
      "244      yaml-rust        7.5      High\n",
      "245        yottadb        9.8  Critical\n",
      "246        zlib-rs        5.3    Medium\n",
      "\n",
      "[247 rows x 3 columns]\n"
     ]
    }
   ],
   "source": [
    "\n",
    "def parse_cvss_vector(vector_str):\n",
    "    try:\n",
    "        match = re.match(r\"CVSS:\\d+\\.\\d+/.*\", vector_str)\n",
    "        if match:\n",
    "            from cvss import CVSS3\n",
    "            return CVSS3(vector_str).base_score\n",
    "    except:\n",
    "        return None\n",
    "    return None\n",
    "\n",
    "def categorize_severity(score):\n",
    "    if score is None:\n",
    "        return \"Unknown\"\n",
    "    if score < 4.0:\n",
    "        return \"Low\"\n",
    "    elif score < 7.0:\n",
    "        return \"Medium\"\n",
    "    elif score < 9.0:\n",
    "        return \"High\"\n",
    "    else:\n",
    "        return \"Critical\"\n",
    "\n",
    "cvss_scores = []\n",
    "for filename in os.listdir(directory_path):\n",
    "    if filename.endswith(\".json\"):\n",
    "        try:\n",
    "            with open(os.path.join(directory_path, filename), \"r\", encoding=\"utf-8\") as f:\n",
    "                data = json.load(f)\n",
    "                for item in data.get(\"affected\", []):\n",
    "                    name = item.get(\"package\", {}).get(\"name\")\n",
    "                    if not name:\n",
    "                        continue\n",
    "                    max_score = None\n",
    "                    for s in data.get(\"severity\", []):\n",
    "                        if s.get(\"type\", \"\").startswith(\"CVSS\"):\n",
    "                            score = parse_cvss_vector(s.get(\"score\", \"\"))\n",
    "                            if score is not None:\n",
    "                                max_score = max(score, max_score) if max_score else score\n",
    "                    if max_score is not None:\n",
    "                        cvss_scores.append({\"crate_name\": name, \"cvss_score\": max_score})\n",
    "        except:\n",
    "            continue\n",
    "cvss_df = pd.DataFrame(cvss_scores)\n",
    "cvss_df = cvss_df.groupby(\"crate_name\", as_index=False)[\"cvss_score\"].max()\n",
    "cvss_df[\"severity\"] = cvss_df[\"cvss_score\"].apply(categorize_severity)\n",
    "print(cvss_df)\n"
   ]
  },
  {
   "cell_type": "code",
   "execution_count": null,
   "id": "89ba1f83",
   "metadata": {},
   "outputs": [
    {
     "name": "stdout",
     "output_type": "stream",
     "text": [
      "各 CVSS 严重性等级的平均排名及样本数量：\n",
      "   severity           avg  count\n",
      "0  Critical  12368.428571     21\n",
      "1      High  17521.972222     36\n",
      "2    Medium  21411.350000     20\n"
     ]
    }
   ],
   "source": [
    "\n",
    "cvss_rank_df = pd.merge(cvss_df, sorted_df[[\"crate_name\", \"rank\", 'final_score']], on=\"crate_name\")\n",
    "cvss_rank_df[\"severity\"] = cvss_rank_df[\"cvss_score\"].apply(categorize_severity)\n",
    "\n",
    "avg_rank_by_severity = (\n",
    "    cvss_rank_df\n",
    "    .groupby(\"severity\")\n",
    "    .agg(avg=(\"rank\", \"mean\"), count=(\"rank\", \"count\"))\n",
    "    .reset_index()\n",
    "    .sort_values(by=\"avg\")\n",
    ")\n",
    "print(\"各 CVSS 严重性等级的风险评估平均排名及样本数量：\")\n",
    "print(avg_rank_by_severity)\n"
   ]
  },
  {
   "cell_type": "code",
   "execution_count": 7,
   "id": "1c380752",
   "metadata": {},
   "outputs": [
    {
     "name": "stdout",
     "output_type": "stream",
     "text": [
      "📊 Mann–Whitney 单边检验：Critical 的 rank 是否 less than High\n",
      "U 统计量 = 271.0000, p 值 = 0.0390\n",
      "✅ 差异具有统计显著性（p < 0.05）\n",
      "📊 Mann–Whitney 单边检验：High 的 rank 是否 less than Medium\n",
      "U 统计量 = 261.0000, p 值 = 0.0461\n",
      "✅ 差异具有统计显著性（p < 0.05）\n",
      "📊 Mann–Whitney 单边检验：Critical 的 final_score 是否 greater than High\n",
      "U 统计量 = 485.0000, p 值 = 0.0390\n",
      "✅ 差异具有统计显著性（p < 0.05）\n",
      "📊 Mann–Whitney 单边检验：High 的 final_score 是否 greater than Medium\n",
      "U 统计量 = 459.0000, p 值 = 0.0461\n",
      "✅ 差异具有统计显著性（p < 0.05）\n"
     ]
    }
   ],
   "source": [
    "\n",
    "def run_one_sided_test(group1_label, group2_label, df, field=\"rank\", direction=\"less\"):\n",
    "    group1 = df[df[\"severity\"] == group1_label][field].values\n",
    "    group2 = df[df[\"severity\"] == group2_label][field].values\n",
    "\n",
    "    if len(group1) < 3 or len(group2) < 3:\n",
    "        print(f\"⚠️ 样本不足：{group1_label} vs {group2_label}\")\n",
    "        return\n",
    "\n",
    "    stat, p_value = mannwhitneyu(group1, group2, alternative=direction)\n",
    "    print(f\"📊 Mann–Whitney 单边检验：{group1_label} 的 {field} 是否 {direction} than {group2_label}\")\n",
    "    print(f\"U 统计量 = {stat:.4f}, p 值 = {p_value:.4f}\")\n",
    "    if p_value < 0.05:\n",
    "        print(\"✅ 差异具有统计显著性（p < 0.05）\")\n",
    "    else:\n",
    "        print(\"❌ 差异不显著\")\n",
    "\n",
    "run_one_sided_test(\"Critical\", \"High\", cvss_rank_df, \"rank\", \"less\")\n",
    "run_one_sided_test(\"High\", \"Medium\", cvss_rank_df, \"rank\", \"less\")\n",
    "run_one_sided_test(\"Critical\", \"High\", cvss_rank_df, \"final_score\", \"greater\")\n",
    "run_one_sided_test(\"High\", \"Medium\", cvss_rank_df, \"final_score\", \"greater\")\n"
   ]
  }
 ],
 "metadata": {
  "kernelspec": {
   "display_name": "base",
   "language": "python",
   "name": "python3"
  },
  "language_info": {
   "codemirror_mode": {
    "name": "ipython",
    "version": 3
   },
   "file_extension": ".py",
   "mimetype": "text/x-python",
   "name": "python",
   "nbconvert_exporter": "python",
   "pygments_lexer": "ipython3",
   "version": "3.11.7"
  }
 },
 "nbformat": 4,
 "nbformat_minor": 5
}
